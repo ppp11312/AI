{
  "nbformat": 4,
  "nbformat_minor": 0,
  "metadata": {
    "colab": {
      "name": "「「keras_CNN_Cifar10.ipynb」的副本」的副本",
      "provenance": [],
      "include_colab_link": true
    },
    "kernelspec": {
      "name": "python3",
      "display_name": "Python 3"
    },
    "language_info": {
      "name": "python"
    },
    "accelerator": "GPU"
  },
  "cells": [
    {
      "cell_type": "markdown",
      "metadata": {
        "id": "view-in-github",
        "colab_type": "text"
      },
      "source": [
        "<a href=\"https://colab.research.google.com/github/ppp11312/AI/blob/main/5.keras_CNN_Cifar10.ipynb\" target=\"_parent\"><img src=\"https://colab.research.google.com/assets/colab-badge.svg\" alt=\"Open In Colab\"/></a>"
      ]
    },
    {
      "cell_type": "code",
      "source": [
        "from tensorflow import keras\n",
        "from keras.models import Sequential\n",
        "from keras.layers import Dense, Conv2D, MaxPooling2D, Flatten\n",
        "model=Sequential()\n",
        "model.add(Conv2D(filters=64, kernel_size=(5, 5), input_shape=(32, 32, 3), activation='relu'))\n",
        "model.add(Conv2D(filters=64, kernel_size=(5, 5), activation='relu'))\n",
        "model.add(MaxPooling2D(pool_size=2))\n",
        "model.add(Conv2D(filters=128, kernel_size=(5, 5), activation='relu'))\n",
        "model.add(Conv2D(filters=128, kernel_size=(5, 5), activation='relu'))\n",
        "model.add(MaxPooling2D(pool_size=2))\n",
        "model.add(Flatten())\n",
        "model.add(Dense(10, activation='softmax'))\n",
        "model.summary()\n",
        "model.compile(optimizer='rmsprop', loss='categorical_crossentropy', metrics=['accuracy'])"
      ],
      "metadata": {
        "colab": {
          "base_uri": "https://localhost:8080/"
        },
        "id": "LQ_HZ-tK8L-C",
        "outputId": "0dfc3f55-8e19-4cb2-95ac-b7131e062291"
      },
      "execution_count": 1,
      "outputs": [
        {
          "output_type": "stream",
          "name": "stdout",
          "text": [
            "Model: \"sequential\"\n",
            "_________________________________________________________________\n",
            " Layer (type)                Output Shape              Param #   \n",
            "=================================================================\n",
            " conv2d (Conv2D)             (None, 28, 28, 64)        4864      \n",
            "                                                                 \n",
            " conv2d_1 (Conv2D)           (None, 24, 24, 64)        102464    \n",
            "                                                                 \n",
            " max_pooling2d (MaxPooling2D  (None, 12, 12, 64)       0         \n",
            " )                                                               \n",
            "                                                                 \n",
            " conv2d_2 (Conv2D)           (None, 8, 8, 128)         204928    \n",
            "                                                                 \n",
            " conv2d_3 (Conv2D)           (None, 4, 4, 128)         409728    \n",
            "                                                                 \n",
            " max_pooling2d_1 (MaxPooling  (None, 2, 2, 128)        0         \n",
            " 2D)                                                             \n",
            "                                                                 \n",
            " flatten (Flatten)           (None, 512)               0         \n",
            "                                                                 \n",
            " dense (Dense)               (None, 10)                5130      \n",
            "                                                                 \n",
            "=================================================================\n",
            "Total params: 727,114\n",
            "Trainable params: 727,114\n",
            "Non-trainable params: 0\n",
            "_________________________________________________________________\n"
          ]
        }
      ]
    },
    {
      "cell_type": "code",
      "source": [
        "cifar10=keras.datasets.cifar10\n",
        "(train_data, train_label), (test_data, test_label) = cifar10.load_data()\n",
        "train_label_original=train_label\n",
        "train_label = keras.utils.to_categorical(train_label)\n",
        "test_label = keras.utils.to_categorical(test_label)"
      ],
      "metadata": {
        "id": "4eM5EOSr4DLB",
        "outputId": "57dd51e7-5cbb-443b-bd52-a63245128e12",
        "colab": {
          "base_uri": "https://localhost:8080/"
        }
      },
      "execution_count": 2,
      "outputs": [
        {
          "output_type": "stream",
          "name": "stdout",
          "text": [
            "Downloading data from https://www.cs.toronto.edu/~kriz/cifar-10-python.tar.gz\n",
            "170500096/170498071 [==============================] - 4s 0us/step\n",
            "170508288/170498071 [==============================] - 4s 0us/step\n"
          ]
        }
      ]
    },
    {
      "cell_type": "code",
      "source": [
        "import matplotlib.pyplot as plt\n",
        "category=['airplane','automobile','bird','cat','deer','dog','frog','horse','ship','truck']\n",
        "plt.imshow(train_data[0])\n",
        "plt.title(category[int(train_label_original[0])])\n",
        "plt.show()\n",
        "print(train_label_original[0])"
      ],
      "metadata": {
        "colab": {
          "base_uri": "https://localhost:8080/",
          "height": 299
        },
        "id": "4j8cPTbDahQr",
        "outputId": "c514ecb5-3189-426a-9cfb-7f322e8f76a7"
      },
      "execution_count": 3,
      "outputs": [
        {
          "output_type": "display_data",
          "data": {
            "text/plain": [
              "<Figure size 432x288 with 1 Axes>"
            ],
            "image/png": "[encoded data removed]"
          },
          "metadata": {
            "needs_background": "light"
          }
        },
        {
          "output_type": "stream",
          "name": "stdout",
          "text": [
            "[6]\n"
          ]
        }
      ]
    },
    {
      "cell_type": "code",
      "source": [
        "train_history=model.fit(train_data,train_label,epochs=30,batch_size=512)\n"
      ],
      "metadata": {
        "id": "UFCQb8bgy3nU",
        "colab": {
          "base_uri": "https://localhost:8080/"
        },
        "outputId": "f584b1f4-b9ae-49ff-a070-3f9b171bcf53"
      },
      "execution_count": 4,
      "outputs": [
        {
          "output_type": "stream",
          "name": "stdout",
          "text": [
            "Epoch 1/30\n",
            "98/98 [==============================] - 17s 51ms/step - loss: 15.9471 - accuracy: 0.1461\n",
            "Epoch 2/30\n",
            "98/98 [==============================] - 4s 43ms/step - loss: 2.3063 - accuracy: 0.1706\n",
            "Epoch 3/30\n",
            "98/98 [==============================] - 4s 44ms/step - loss: 2.1173 - accuracy: 0.2753\n",
            "Epoch 4/30\n",
            "98/98 [==============================] - 5s 46ms/step - loss: 1.9932 - accuracy: 0.3276\n",
            "Epoch 5/30\n",
            "98/98 [==============================] - 4s 44ms/step - loss: 1.7603 - accuracy: 0.3949\n",
            "Epoch 6/30\n",
            "98/98 [==============================] - 4s 44ms/step - loss: 1.5820 - accuracy: 0.4540\n",
            "Epoch 7/30\n",
            "98/98 [==============================] - 4s 44ms/step - loss: 1.4567 - accuracy: 0.5033\n",
            "Epoch 8/30\n",
            "98/98 [==============================] - 4s 45ms/step - loss: 1.3215 - accuracy: 0.5507\n",
            "Epoch 9/30\n",
            "98/98 [==============================] - 4s 45ms/step - loss: 1.2032 - accuracy: 0.5914\n",
            "Epoch 10/30\n",
            "98/98 [==============================] - 4s 45ms/step - loss: 1.0310 - accuracy: 0.6458\n",
            "Epoch 11/30\n",
            "98/98 [==============================] - 4s 45ms/step - loss: 0.9328 - accuracy: 0.6803\n",
            "Epoch 12/30\n",
            "98/98 [==============================] - 4s 45ms/step - loss: 0.8270 - accuracy: 0.7190\n",
            "Epoch 13/30\n",
            "98/98 [==============================] - 4s 45ms/step - loss: 0.7134 - accuracy: 0.7588\n",
            "Epoch 14/30\n",
            "98/98 [==============================] - 4s 45ms/step - loss: 0.6059 - accuracy: 0.7928\n",
            "Epoch 15/30\n",
            "98/98 [==============================] - 4s 46ms/step - loss: 0.5167 - accuracy: 0.8258\n",
            "Epoch 16/30\n",
            "98/98 [==============================] - 5s 46ms/step - loss: 0.4581 - accuracy: 0.8465\n",
            "Epoch 17/30\n",
            "98/98 [==============================] - 5s 46ms/step - loss: 0.4008 - accuracy: 0.8682\n",
            "Epoch 18/30\n",
            "98/98 [==============================] - 5s 47ms/step - loss: 0.3430 - accuracy: 0.8852\n",
            "Epoch 19/30\n",
            "98/98 [==============================] - 5s 47ms/step - loss: 0.3140 - accuracy: 0.8997\n",
            "Epoch 20/30\n",
            "98/98 [==============================] - 5s 47ms/step - loss: 0.3026 - accuracy: 0.9049\n",
            "Epoch 21/30\n",
            "98/98 [==============================] - 5s 47ms/step - loss: 0.2658 - accuracy: 0.9165\n",
            "Epoch 22/30\n",
            "98/98 [==============================] - 5s 47ms/step - loss: 0.2542 - accuracy: 0.9203\n",
            "Epoch 23/30\n",
            "98/98 [==============================] - 5s 48ms/step - loss: 0.2361 - accuracy: 0.9266\n",
            "Epoch 24/30\n",
            "98/98 [==============================] - 5s 48ms/step - loss: 0.2376 - accuracy: 0.9298\n",
            "Epoch 25/30\n",
            "98/98 [==============================] - 5s 48ms/step - loss: 0.2173 - accuracy: 0.9354\n",
            "Epoch 26/30\n",
            "98/98 [==============================] - 5s 48ms/step - loss: 0.2179 - accuracy: 0.9364\n",
            "Epoch 27/30\n",
            "98/98 [==============================] - 5s 48ms/step - loss: 0.2085 - accuracy: 0.9396\n",
            "Epoch 28/30\n",
            "98/98 [==============================] - 5s 48ms/step - loss: 0.1923 - accuracy: 0.9445\n",
            "Epoch 29/30\n",
            "98/98 [==============================] - 5s 48ms/step - loss: 0.2061 - accuracy: 0.9421\n",
            "Epoch 30/30\n",
            "98/98 [==============================] - 5s 48ms/step - loss: 0.1935 - accuracy: 0.9471\n"
          ]
        }
      ]
    },
    {
      "cell_type": "code",
      "source": [
        "score=model.evaluate(test_data, test_label)\n",
        "print(score[1])"
      ],
      "metadata": {
        "id": "SC2VW7yl87F-",
        "colab": {
          "base_uri": "https://localhost:8080/"
        },
        "outputId": "7e9846f4-02dc-4939-9fe9-5f8437f1868c"
      },
      "execution_count": 5,
      "outputs": [
        {
          "output_type": "stream",
          "name": "stdout",
          "text": [
            "313/313 [==============================] - 2s 4ms/step - loss: 3.2866 - accuracy: 0.5971\n",
            "0.597100019454956\n"
          ]
        }
      ]
    },
    {
      "cell_type": "code",
      "source": [
        "#繪製正確性與損失歷史圖\n",
        "import matplotlib.pyplot as plt\n",
        "import numpy as np\n",
        "\n",
        "def show_train_history(train_history, train):\n",
        "    plt.plot(train_history.history[train])\n",
        "    plt.title('Train History')\n",
        "    plt.ylabel(train)\n",
        "    plt.xlabel('Epoch')\n",
        "    plt.legend(['train'], loc='center right')\n",
        "    plt.show()\n",
        "\n",
        "show_train_history(train_history, 'accuracy')\n",
        "show_train_history(train_history, 'loss')"
      ],
      "metadata": {
        "colab": {
          "base_uri": "https://localhost:8080/",
          "height": 573
        },
        "id": "YycOQ_auS_1s",
        "outputId": "7909d502-957c-44ff-acd0-beee804566fb"
      },
      "execution_count": 6,
      "outputs": [
        {
          "output_type": "display_data",
          "data": {
            "text/plain": [
              "<Figure size 432x288 with 1 Axes>"
            ],
            "image/png": "[encoded data removed]"
          },
          "metadata": {
            "needs_background": "light"
          }
        },
        {
          "output_type": "display_data",
          "data": {
            "text/plain": [
              "<Figure size 432x288 with 1 Axes>"
            ],
            "image/png": "[encoded data removed]"
          },
          "metadata": {
            "needs_background": "light"
          }
        }
      ]
    }
  ]
}