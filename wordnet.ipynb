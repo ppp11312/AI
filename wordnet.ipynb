{
  "nbformat": 4,
  "nbformat_minor": 0,
  "metadata": {
    "colab": {
      "name": "10.wordnet.ipynb",
      "provenance": [],
      "collapsed_sections": [],
      "include_colab_link": true
    },
    "kernelspec": {
      "name": "python3",
      "display_name": "Python 3"
    },
    "language_info": {
      "name": "python"
    }
  },
  "cells": [
    {
      "cell_type": "markdown",
      "metadata": {
        "id": "view-in-github",
        "colab_type": "text"
      },
      "source": [
        "<a href=\"https://colab.research.google.com/github/ppp11312/AI/blob/main/wordnet.ipynb\" target=\"_parent\"><img src=\"https://colab.research.google.com/assets/colab-badge.svg\" alt=\"Open In Colab\"/></a>"
      ]
    },
    {
      "cell_type": "markdown",
      "source": [
        "# 中文wordnet\n",
        "完整用法：https://github.com/lopentu/CwnGraph\n",
        "\n",
        "- 要表達字詞，必須透過向量的表示法，例如one-hot encoding\n",
        "- 然而一個字詞代表一個向量維度，會造成向量維度空間太大，造成之後計算困難，因此必須要把相似字詞做合併\n",
        "- 早期的用法是透過查詢wordnet。wordnet是透過人工的方式，建立起字詞之間的關係\n",
        "- 本範例介紹中文的wordnet，查詢\"頭\"這個字，看有多少跟\"頭\"相關的字詞\n",
        "- 另外介紹英文的wordnet，查詢跟\"dog\"相似的字詞"
      ],
      "metadata": {
        "id": "NLZPCMu0_SMu"
      }
    },
    {
      "cell_type": "code",
      "source": [
        "!pip install CwnGraph"
      ],
      "metadata": {
        "id": "2E02jlhZ8rr7",
        "outputId": "5ea12008-5d8d-4932-a064-cb639d66bd15",
        "colab": {
          "base_uri": "https://localhost:8080/"
        }
      },
      "execution_count": 1,
      "outputs": [
        {
          "output_type": "stream",
          "name": "stdout",
          "text": [
            "Collecting CwnGraph\n",
            "  Downloading CwnGraph-0.2.0.tar.gz (27 kB)\n",
            "Requirement already satisfied: gdown in /usr/local/lib/python3.7/dist-packages (from CwnGraph) (4.4.0)\n",
            "Requirement already satisfied: filelock in /usr/local/lib/python3.7/dist-packages (from gdown->CwnGraph) (3.6.0)\n",
            "Requirement already satisfied: six in /usr/local/lib/python3.7/dist-packages (from gdown->CwnGraph) (1.15.0)\n",
            "Requirement already satisfied: beautifulsoup4 in /usr/local/lib/python3.7/dist-packages (from gdown->CwnGraph) (4.6.3)\n",
            "Requirement already satisfied: tqdm in /usr/local/lib/python3.7/dist-packages (from gdown->CwnGraph) (4.64.0)\n",
            "Requirement already satisfied: requests[socks] in /usr/local/lib/python3.7/dist-packages (from gdown->CwnGraph) (2.23.0)\n",
            "Requirement already satisfied: idna<3,>=2.5 in /usr/local/lib/python3.7/dist-packages (from requests[socks]->gdown->CwnGraph) (2.10)\n",
            "Requirement already satisfied: chardet<4,>=3.0.2 in /usr/local/lib/python3.7/dist-packages (from requests[socks]->gdown->CwnGraph) (3.0.4)\n",
            "Requirement already satisfied: urllib3!=1.25.0,!=1.25.1,<1.26,>=1.21.1 in /usr/local/lib/python3.7/dist-packages (from requests[socks]->gdown->CwnGraph) (1.24.3)\n",
            "Requirement already satisfied: certifi>=2017.4.17 in /usr/local/lib/python3.7/dist-packages (from requests[socks]->gdown->CwnGraph) (2021.10.8)\n",
            "Requirement already satisfied: PySocks!=1.5.7,>=1.5.6 in /usr/local/lib/python3.7/dist-packages (from requests[socks]->gdown->CwnGraph) (1.7.1)\n",
            "Building wheels for collected packages: CwnGraph\n",
            "  Building wheel for CwnGraph (setup.py) ... \u001b[?25l\u001b[?25hdone\n",
            "  Created wheel for CwnGraph: filename=CwnGraph-0.2.0-py3-none-any.whl size=28834 sha256=eafa2f76d98a39414a15472f221a1bc47f991b37a79fb4d0bc0235c6e207378b\n",
            "  Stored in directory: /root/.cache/pip/wheels/9d/35/e7/8f40ef849b2c591674f2cad419eac267821203ed5859b3f68b\n",
            "Successfully built CwnGraph\n",
            "Installing collected packages: CwnGraph\n",
            "Successfully installed CwnGraph-0.2.0\n"
          ]
        }
      ]
    },
    {
      "cell_type": "markdown",
      "source": [
        "# 將`cwn_graph.pyobj`上傳到colab目錄\n",
        "- cwn_graph.pyobj下載連結：https://github.com/joshhu/nlp_must2022/raw/main/cwn_graph.pyobj\n",
        "- 下載完成後，上傳至colab目錄，需等待上傳結束後，才可以繼續下一步執行 (上傳需數分鐘)"
      ],
      "metadata": {
        "id": "-1W4TtOp-L44"
      }
    },
    {
      "cell_type": "code",
      "execution_count": 12,
      "metadata": {
        "colab": {
          "base_uri": "https://localhost:8080/"
        },
        "id": "Kuuu-WmF8M5u",
        "outputId": "cee15cb0-0360-4a58-a9d0-32db4f01395b"
      },
      "outputs": [
        {
          "output_type": "stream",
          "name": "stdout",
          "text": [
            "CWN data installed\n"
          ]
        }
      ],
      "source": [
        "from pprint import pprint\n",
        "from CwnGraph import CwnBase\n",
        "CwnBase.install_cwn(\"cwn_graph.pyobj\")"
      ]
    },
    {
      "cell_type": "code",
      "source": [
        "from CwnGraph import CwnBase\n",
        "cwn = CwnBase()"
      ],
      "metadata": {
        "id": "TRJpglUX8eX7"
      },
      "execution_count": 13,
      "outputs": []
    },
    {
      "cell_type": "code",
      "source": [
        "lemmas = cwn.find_lemma(\"頭\")\n",
        "lemmas"
      ],
      "metadata": {
        "colab": {
          "base_uri": "https://localhost:8080/"
        },
        "id": "IyFF5sOw9QQj",
        "outputId": "467f58ac-ec09-454e-f12a-23f3b18fd98e"
      },
      "execution_count": 14,
      "outputs": [
        {
          "output_type": "execute_result",
          "data": {
            "text/plain": [
              "[<CwnLemma: 罐頭_1>,\n",
              " <CwnLemma: 年頭_1>,\n",
              " <CwnLemma: 山頭_1>,\n",
              " <CwnLemma: 頭_1>,\n",
              " <CwnLemma: 頭疼_1>,\n",
              " <CwnLemma: 從頭_1>,\n",
              " <CwnLemma: 龍頭_1>,\n",
              " <CwnLemma: 口頭_1>,\n",
              " <CwnLemma: 出頭_1>,\n",
              " <CwnLemma: 斷頭_1>,\n",
              " <CwnLemma: 分頭_1>,\n",
              " <CwnLemma: 回頭_1>,\n",
              " <CwnLemma: 磕頭_1>,\n",
              " <CwnLemma: 頭號_1>,\n",
              " <CwnLemma: 頭部_1>,\n",
              " <CwnLemma: 點頭_1>,\n",
              " <CwnLemma: 抬頭_1>,\n",
              " <CwnLemma: 街頭_1>,\n",
              " <CwnLemma: 裡頭_1>,\n",
              " <CwnLemma: 源頭_1>,\n",
              " <CwnLemma: 頭家_1>,\n",
              " <CwnLemma: 工頭_1>,\n",
              " <CwnLemma: 大舌頭_1>,\n",
              " <CwnLemma: 老頭_1>,\n",
              " <CwnLemma: 老頭子_1>,\n",
              " <CwnLemma: 花頭_1>,\n",
              " <CwnLemma: 白頭翁_1>,\n",
              " <CwnLemma: 頭彩_1>,\n",
              " <CwnLemma: 人頭稅_1>,\n",
              " <CwnLemma: 戶頭_1>,\n",
              " <CwnLemma: 頭癬_1>,\n",
              " <CwnLemma: 木頭_1>,\n",
              " <CwnLemma: 領頭_1>,\n",
              " <CwnLemma: 頭錘_1>,\n",
              " <CwnLemma: 零頭_1>,\n",
              " <CwnLemma: 接頭_1>,\n",
              " <CwnLemma: 頭狀_1>,\n",
              " <CwnLemma: 白頭鷹_1>,\n",
              " <CwnLemma: 貓頭鷹_1>,\n",
              " <CwnLemma: 頭蝨_1>,\n",
              " <CwnLemma: 奶頭_1>,\n",
              " <CwnLemma: 頭髮_1>,\n",
              " <CwnLemma: 平頭_1>,\n",
              " <CwnLemma: 舌頭_1>,\n",
              " <CwnLemma: 龜頭_1>,\n",
              " <CwnLemma: 人頭_1>,\n",
              " <CwnLemma: 頭頂_1>,\n",
              " <CwnLemma: 頭皮_1>,\n",
              " <CwnLemma: 頭蓋_1>,\n",
              " <CwnLemma: 拳頭_1>,\n",
              " <CwnLemma: 雙頭肌_1>,\n",
              " <CwnLemma: 額頭_1>,\n",
              " <CwnLemma: 念頭_1>,\n",
              " <CwnLemma: 頭條_1>,\n",
              " <CwnLemma: 開頭_1>,\n",
              " <CwnLemma: 叩頭_1>,\n",
              " <CwnLemma: 芋頭_1>,\n",
              " <CwnLemma: 橋頭堡_1>,\n",
              " <CwnLemma: 盡頭_1>,\n",
              " <CwnLemma: 石頭_1>,\n",
              " <CwnLemma: 露頭_1>,\n",
              " <CwnLemma: 頭皮屑_1>,\n",
              " <CwnLemma: 兩頭蛇_1>,\n",
              " <CwnLemma: 空頭_1>,\n",
              " <CwnLemma: 頭重腳輕_1>,\n",
              " <CwnLemma: 箭頭_1>,\n",
              " <CwnLemma: 斧頭_1>,\n",
              " <CwnLemma: 鑽頭_1>,\n",
              " <CwnLemma: 船頭_1>,\n",
              " <CwnLemma: 頭巾_1>,\n",
              " <CwnLemma: 虎頭蛇尾_1>,\n",
              " <CwnLemma: 鏡頭_1>,\n",
              " <CwnLemma: 柱頭_1>,\n",
              " <CwnLemma: 頭暈目眩_1>,\n",
              " <CwnLemma: 煙頭_1>,\n",
              " <CwnLemma: 滑頭_1>,\n",
              " <CwnLemma: 寡頭政治_1>,\n",
              " <CwnLemma: 頭銜_1>,\n",
              " <CwnLemma: 頭蓋骨_1>,\n",
              " <CwnLemma: 乳頭狀_1>,\n",
              " <CwnLemma: 喉頭_1>,\n",
              " <CwnLemma: 水龍頭_1>,\n",
              " <CwnLemma: 大頭_1>,\n",
              " <CwnLemma: 頭等艙_1>,\n",
              " <CwnLemma: 斷頭台_1>,\n",
              " <CwnLemma: 行頭_1>,\n",
              " <CwnLemma: 頭盔_1>,\n",
              " <CwnLemma: 頭像_1>,\n",
              " <CwnLemma: 鋤頭_1>,\n",
              " <CwnLemma: 頭罩_1>,\n",
              " <CwnLemma: 火車頭_1>,\n",
              " <CwnLemma: 磁頭_1>,\n",
              " <CwnLemma: 碼頭_1>,\n",
              " <CwnLemma: 尖頭_1>,\n",
              " <CwnLemma: 枕頭_1>,\n",
              " <CwnLemma: 針頭_1>,\n",
              " <CwnLemma: 插頭_1>,\n",
              " <CwnLemma: 店頭_1>,\n",
              " <CwnLemma: 噴頭_1>,\n",
              " <CwnLemma: 蓮蓬頭_1>,\n",
              " <CwnLemma: 矛頭_1>,\n",
              " <CwnLemma: 大頭釘_1>,\n",
              " <CwnLemma: 頭飾_1>,\n",
              " <CwnLemma: 三頭馬車_1>,\n",
              " <CwnLemma: 彈頭_1>,\n",
              " <CwnLemma: 皺眉頭_1>,\n",
              " <CwnLemma: 從頭到尾_1>,\n",
              " <CwnLemma: 頭昏眼花_1>,\n",
              " <CwnLemma: 賊頭賊腦_1>,\n",
              " <CwnLemma: 砍頭_1>,\n",
              " <CwnLemma: 起頭_1>,\n",
              " <CwnLemma: 梳頭_1>,\n",
              " <CwnLemma: 禿頭_1>,\n",
              " <CwnLemma: 搖頭_1>,\n",
              " <CwnLemma: 掉頭_1>,\n",
              " <CwnLemma: 垂頭喪氣_1>,\n",
              " <CwnLemma: 頭等_1>,\n",
              " <CwnLemma: 噱頭_1>,\n",
              " <CwnLemma: 鐘頭_1>,\n",
              " <CwnLemma: 骨頭_1>,\n",
              " <CwnLemma: 後頭_1>,\n",
              " <CwnLemma: 裏頭_1>,\n",
              " <CwnLemma: 饅頭_1>,\n",
              " <CwnLemma: 前頭_1>,\n",
              " <CwnLemma: 上頭_1>,\n",
              " <CwnLemma: 手指頭_1>,\n",
              " <CwnLemma: 頭痛_1>,\n",
              " <CwnLemma: 外頭_1>,\n",
              " <CwnLemma: 到頭來_1>,\n",
              " <CwnLemma: 關頭_1>,\n",
              " <CwnLemma: 老頭兒_1>,\n",
              " <CwnLemma: 眉頭_1>,\n",
              " <CwnLemma: 派頭_1>,\n",
              " <CwnLemma: 頭腦_1>,\n",
              " <CwnLemma: 指頭_1>,\n",
              " <CwnLemma: 開頭兒_1>]"
            ]
          },
          "metadata": {},
          "execution_count": 14
        }
      ]
    },
    {
      "cell_type": "markdown",
      "source": [
        "#英文wordnet\n",
        "完整用法：https://www.nltk.org/howto/wordnet.html"
      ],
      "metadata": {
        "id": "13NyCY9p_Hpi"
      }
    },
    {
      "cell_type": "code",
      "source": [
        "import nltk\n",
        "nltk.download('wordnet')\n",
        "from nltk.corpus import wordnet as wn\n",
        "wn.synsets('dog')"
      ],
      "metadata": {
        "colab": {
          "base_uri": "https://localhost:8080/"
        },
        "id": "aDX0UHsY-dR5",
        "outputId": "39a7f0da-7cd9-49e1-f46f-ac6248c7e029"
      },
      "execution_count": 15,
      "outputs": [
        {
          "output_type": "stream",
          "name": "stdout",
          "text": [
            "[nltk_data] Downloading package wordnet to /root/nltk_data...\n",
            "[nltk_data]   Unzipping corpora/wordnet.zip.\n"
          ]
        },
        {
          "output_type": "execute_result",
          "data": {
            "text/plain": [
              "[Synset('dog.n.01'),\n",
              " Synset('frump.n.01'),\n",
              " Synset('dog.n.03'),\n",
              " Synset('cad.n.01'),\n",
              " Synset('frank.n.02'),\n",
              " Synset('pawl.n.01'),\n",
              " Synset('andiron.n.01'),\n",
              " Synset('chase.v.01')]"
            ]
          },
          "metadata": {},
          "execution_count": 15
        }
      ]
    }
  ]
}