{
  "nbformat": 4,
  "nbformat_minor": 0,
  "metadata": {
    "colab": {
      "name": "Untitled2.ipynb",
      "provenance": [],
      "authorship_tag": "ABX9TyOR/4RKoePsPTeNIxaXTK2J",
      "include_colab_link": true
    },
    "kernelspec": {
      "name": "python3",
      "display_name": "Python 3"
    },
    "language_info": {
      "name": "python"
    }
  },
  "cells": [
    {
      "cell_type": "markdown",
      "metadata": {
        "id": "view-in-github",
        "colab_type": "text"
      },
      "source": [
        "<a href=\"https://colab.research.google.com/github/ppp11312/AI/blob/main/Keras_Tutorial.ipynb\" target=\"_parent\"><img src=\"https://colab.research.google.com/assets/colab-badge.svg\" alt=\"Open In Colab\"/></a>"
      ]
    },
    {
      "cell_type": "code",
      "execution_count": 2,
      "metadata": {
        "colab": {
          "base_uri": "https://localhost:8080/"
        },
        "id": "KfMkEFzFjkqg",
        "outputId": "16090570-5263-43d2-e698-80019efcc922"
      },
      "outputs": [
        {
          "output_type": "stream",
          "name": "stdout",
          "text": [
            "(1000, 10)\n",
            "[0.16208397 0.74278819 0.29837211 0.03075092 0.26474424 0.2661322\n",
            " 0.04283266 0.05767827 0.95980994 0.12608623]\n",
            "(1000, 1)\n",
            "[1]\n",
            "Epoch 1/10\n",
            "32/32 [==============================] - 1s 1ms/step - loss: 0.7142 - accuracy: 0.4810\n",
            "Epoch 2/10\n",
            "32/32 [==============================] - 0s 1ms/step - loss: 0.7024 - accuracy: 0.4870\n",
            "Epoch 3/10\n",
            "32/32 [==============================] - 0s 1ms/step - loss: 0.7001 - accuracy: 0.4710\n",
            "Epoch 4/10\n",
            "32/32 [==============================] - 0s 1ms/step - loss: 0.6983 - accuracy: 0.4810\n",
            "Epoch 5/10\n",
            "32/32 [==============================] - 0s 1ms/step - loss: 0.6971 - accuracy: 0.4890\n",
            "Epoch 6/10\n",
            "32/32 [==============================] - 0s 1ms/step - loss: 0.6965 - accuracy: 0.4850\n",
            "Epoch 7/10\n",
            "32/32 [==============================] - 0s 1ms/step - loss: 0.6961 - accuracy: 0.4940\n",
            "Epoch 8/10\n",
            "32/32 [==============================] - 0s 1ms/step - loss: 0.6953 - accuracy: 0.4960\n",
            "Epoch 9/10\n",
            "32/32 [==============================] - 0s 1ms/step - loss: 0.6944 - accuracy: 0.4990\n",
            "Epoch 10/10\n",
            "32/32 [==============================] - 0s 1ms/step - loss: 0.6939 - accuracy: 0.5000\n",
            "32/32 [==============================] - 0s 987us/step - loss: 0.6925 - accuracy: 0.5140\n",
            "0.5139999985694885\n"
          ]
        }
      ],
      "source": [
        "from tensorflow import keras\n",
        "from keras.models import Sequential\n",
        "from keras.layers import Dense\n",
        "\n",
        "import numpy as np\n",
        "data = np.random.random((1000, 10)) #隨機產生1000筆資料，每筆資料包含十個float數字\n",
        "labels = np.random.randint(2, size=(1000, 1)) #隨機產生1000筆資料，每筆資料上限為2(意思就是0 或 1)\n",
        "print(np.shape(data))\n",
        "print(data[0])\n",
        "print(np.shape(labels))\n",
        "print(labels[0])\n",
        "\n",
        "model = Sequential()\n",
        "model.add(Dense(32, activation='relu', input_dim=10))\n",
        "model.add(Dense(1, activation='sigmoid'))\n",
        "model.compile(optimizer='rmsprop', loss='binary_crossentropy', metrics=['accuracy'])\n",
        "\n",
        "model.fit(data, labels, epochs=10, batch_size=32)\n",
        "\n",
        "score=model.evaluate(data, labels)\n",
        "print(score[1])"
      ]
    }
  ]
}